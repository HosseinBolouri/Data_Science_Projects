{
 "cells": [
  {
   "cell_type": "markdown",
   "id": "359d88ec-0ce9-4031-beb1-bb0122876f3b",
   "metadata": {},
   "source": [
    "# Pandas Analysis: NYC Public School SAT Performance\n",
    "\n",
    "This project analyzes NYC public school SAT data using **Pandas** to assess math performance, top schools by combined scores, and borough-level variability. I applied **data filtering, aggregation, and statistical analysis** to identify high-performing schools."
   ]
  },
  {
   "cell_type": "code",
   "execution_count": 1,
   "id": "d0eb4f16-5a99-460d-a5ba-706b7ef0bbe7",
   "metadata": {
    "executionCancelledAt": null,
    "executionTime": 19,
    "id": "bA5ajAmk7XH6",
    "lastExecutedAt": 1740948123127,
    "lastExecutedByKernel": "6b41a953-eaf4-4765-9759-22ef07ec00db",
    "lastScheduledRunId": null,
    "lastSuccessfullyExecutedCode": "# Re-run this cell \nimport pandas as pd\n\n# Read in the data\nschools = pd.read_csv(\"schools.csv\")\n\n# Preview the data\nschools.head()\n\n#top 10 schools\nfiltered_schools = schools[schools['average_math'] >= 0.8 * 800]\nbest_math_schools = filtered_schools[['school_name', 'average_math']].sort_values(by='average_math', ascending=False)",
    "outputsMetadata": {
     "0": {
      "height": 244,
      "tableState": {
       "quickFilterText": ""
      },
      "type": "dataFrame"
     }
    }
   },
   "outputs": [],
   "source": [
    "# Re-run this cell \n",
    "import pandas as pd\n",
    "\n",
    "# Read in the data\n",
    "schools = pd.read_csv(\"schools.csv\")\n",
    "\n",
    "# Preview the data\n",
    "schools.head()\n",
    "\n",
    "#top 10 schools\n",
    "filtered_schools = schools[schools['average_math'] >= 0.8 * 800]\n",
    "best_math_schools = filtered_schools[['school_name', 'average_math']].sort_values(by='average_math', ascending=False)"
   ]
  },
  {
   "cell_type": "code",
   "execution_count": 2,
   "id": "05c5edaf-f658-4a11-be41-9ff8f92034b7",
   "metadata": {
    "executionCancelledAt": null,
    "executionTime": 52,
    "lastExecutedAt": 1740948123179,
    "lastExecutedByKernel": "6b41a953-eaf4-4765-9759-22ef07ec00db",
    "lastScheduledRunId": null,
    "lastSuccessfullyExecutedCode": "best_math_schools.head()",
    "outputsMetadata": {
     "0": {
      "height": 500,
      "tableState": {
       "quickFilterText": ""
      },
      "type": "dataFrame"
     }
    }
   },
   "outputs": [
    {
     "data": {
      "text/html": [
       "<div>\n",
       "<style scoped>\n",
       "    .dataframe tbody tr th:only-of-type {\n",
       "        vertical-align: middle;\n",
       "    }\n",
       "\n",
       "    .dataframe tbody tr th {\n",
       "        vertical-align: top;\n",
       "    }\n",
       "\n",
       "    .dataframe thead th {\n",
       "        text-align: right;\n",
       "    }\n",
       "</style>\n",
       "<table border=\"1\" class=\"dataframe\">\n",
       "  <thead>\n",
       "    <tr style=\"text-align: right;\">\n",
       "      <th></th>\n",
       "      <th>school_name</th>\n",
       "      <th>average_math</th>\n",
       "    </tr>\n",
       "  </thead>\n",
       "  <tbody>\n",
       "    <tr>\n",
       "      <th>88</th>\n",
       "      <td>Stuyvesant High School</td>\n",
       "      <td>754</td>\n",
       "    </tr>\n",
       "    <tr>\n",
       "      <th>170</th>\n",
       "      <td>Bronx High School of Science</td>\n",
       "      <td>714</td>\n",
       "    </tr>\n",
       "    <tr>\n",
       "      <th>93</th>\n",
       "      <td>Staten Island Technical High School</td>\n",
       "      <td>711</td>\n",
       "    </tr>\n",
       "    <tr>\n",
       "      <th>365</th>\n",
       "      <td>Queens High School for the Sciences at York Co...</td>\n",
       "      <td>701</td>\n",
       "    </tr>\n",
       "    <tr>\n",
       "      <th>68</th>\n",
       "      <td>High School for Mathematics, Science, and Engi...</td>\n",
       "      <td>683</td>\n",
       "    </tr>\n",
       "  </tbody>\n",
       "</table>\n",
       "</div>"
      ],
      "text/plain": [
       "                                           school_name  average_math\n",
       "88                              Stuyvesant High School           754\n",
       "170                       Bronx High School of Science           714\n",
       "93                 Staten Island Technical High School           711\n",
       "365  Queens High School for the Sciences at York Co...           701\n",
       "68   High School for Mathematics, Science, and Engi...           683"
      ]
     },
     "execution_count": 2,
     "metadata": {},
     "output_type": "execute_result"
    }
   ],
   "source": [
    "best_math_schools.head()"
   ]
  },
  {
   "cell_type": "code",
   "execution_count": 4,
   "id": "3a83b051-87d1-4f82-a8e5-79d6a5a377fa",
   "metadata": {
    "executionCancelledAt": null,
    "executionTime": 51,
    "lastExecutedAt": 1740948123230,
    "lastExecutedByKernel": "6b41a953-eaf4-4765-9759-22ef07ec00db",
    "lastScheduledRunId": null,
    "lastSuccessfullyExecutedCode": "best_math_schools.info()"
   },
   "outputs": [
    {
     "name": "stdout",
     "output_type": "stream",
     "text": [
      "<class 'pandas.core.frame.DataFrame'>\n",
      "Int64Index: 10 entries, 88 to 45\n",
      "Data columns (total 2 columns):\n",
      " #   Column        Non-Null Count  Dtype \n",
      "---  ------        --------------  ----- \n",
      " 0   school_name   10 non-null     object\n",
      " 1   average_math  10 non-null     int64 \n",
      "dtypes: int64(1), object(1)\n",
      "memory usage: 240.0+ bytes\n"
     ]
    }
   ],
   "source": [
    "best_math_schools.info()"
   ]
  },
  {
   "cell_type": "code",
   "execution_count": 5,
   "id": "3a6c36e5-522d-453f-aed2-afb00795a6c7",
   "metadata": {
    "executionCancelledAt": null,
    "executionTime": 48,
    "lastExecutedAt": 1740948123278,
    "lastExecutedByKernel": "6b41a953-eaf4-4765-9759-22ef07ec00db",
    "lastScheduledRunId": null,
    "lastSuccessfullyExecutedCode": "schools['total_SAT']= schools['average_math']+schools['average_reading']+schools['average_writing']"
   },
   "outputs": [],
   "source": [
    "schools['total_SAT']= schools['average_math']+schools['average_reading']+schools['average_writing']"
   ]
  },
  {
   "cell_type": "code",
   "execution_count": 6,
   "id": "2d9e61bf-563c-41ad-909e-d07d7fdb19ac",
   "metadata": {
    "executionCancelledAt": null,
    "executionTime": 52,
    "lastExecutedAt": 1740948123330,
    "lastExecutedByKernel": "6b41a953-eaf4-4765-9759-22ef07ec00db",
    "lastScheduledRunId": null,
    "lastSuccessfullyExecutedCode": "schools.columns"
   },
   "outputs": [
    {
     "data": {
      "text/plain": [
       "Index(['school_name', 'borough', 'building_code', 'average_math',\n",
       "       'average_reading', 'average_writing', 'percent_tested', 'total_SAT'],\n",
       "      dtype='object')"
      ]
     },
     "execution_count": 6,
     "metadata": {},
     "output_type": "execute_result"
    }
   ],
   "source": [
    "schools.columns"
   ]
  },
  {
   "cell_type": "code",
   "execution_count": 72,
   "id": "01d192a4-2f94-47de-8555-72bd51dce6cc",
   "metadata": {
    "executionCancelledAt": null,
    "executionTime": 48,
    "lastExecutedAt": 1740948123378,
    "lastExecutedByKernel": "6b41a953-eaf4-4765-9759-22ef07ec00db",
    "lastScheduledRunId": null,
    "lastSuccessfullyExecutedCode": "top_10_schools= schools[['school_name', 'total_SAT']].sort_values(by='total_SAT', ascending=False)"
   },
   "outputs": [],
   "source": [
    "top_10_schools= schools[['school_name', 'total_SAT']].sort_values(by='total_SAT', ascending=False)"
   ]
  },
  {
   "cell_type": "code",
   "execution_count": 73,
   "id": "cef169dd-c077-4ebf-afe9-a7730125a4ee",
   "metadata": {
    "executionCancelledAt": null,
    "executionTime": 52,
    "lastExecutedAt": 1740948123430,
    "lastExecutedByKernel": "6b41a953-eaf4-4765-9759-22ef07ec00db",
    "lastScheduledRunId": null,
    "lastSuccessfullyExecutedCode": "top_10_schools.head(10)",
    "outputsMetadata": {
     "0": {
      "height": 244,
      "tableState": {
       "quickFilterText": ""
      },
      "type": "dataFrame"
     }
    }
   },
   "outputs": [
    {
     "data": {
      "application/com.datacamp.data-table.v2+json": {
       "table": {
        "data": {
         "index": [
          88,
          170,
          93,
          174,
          333,
          365,
          5,
          280,
          45,
          68
         ],
         "school_name": [
          "Stuyvesant High School",
          "Bronx High School of Science",
          "Staten Island Technical High School",
          "High School of American Studies at Lehman College",
          "Townsend Harris High School",
          "Queens High School for the Sciences at York College",
          "Bard High School Early College",
          "Brooklyn Technical High School",
          "Eleanor Roosevelt High School",
          "High School for Mathematics, Science, and Engineering at City College"
         ],
         "total_SAT": [
          2144,
          2041,
          2041,
          2013,
          1981,
          1947,
          1914,
          1896,
          1889,
          1889
         ]
        },
        "schema": {
         "fields": [
          {
           "name": "index",
           "type": "integer"
          },
          {
           "name": "school_name",
           "type": "string"
          },
          {
           "name": "total_SAT",
           "type": "integer"
          }
         ],
         "pandas_version": "1.4.0",
         "primaryKey": [
          "index"
         ]
        }
       },
       "total_rows": 10,
       "truncation_type": null
      },
      "text/html": [
       "<div>\n",
       "<style scoped>\n",
       "    .dataframe tbody tr th:only-of-type {\n",
       "        vertical-align: middle;\n",
       "    }\n",
       "\n",
       "    .dataframe tbody tr th {\n",
       "        vertical-align: top;\n",
       "    }\n",
       "\n",
       "    .dataframe thead th {\n",
       "        text-align: right;\n",
       "    }\n",
       "</style>\n",
       "<table border=\"1\" class=\"dataframe\">\n",
       "  <thead>\n",
       "    <tr style=\"text-align: right;\">\n",
       "      <th></th>\n",
       "      <th>school_name</th>\n",
       "      <th>total_SAT</th>\n",
       "    </tr>\n",
       "  </thead>\n",
       "  <tbody>\n",
       "    <tr>\n",
       "      <th>88</th>\n",
       "      <td>Stuyvesant High School</td>\n",
       "      <td>2144</td>\n",
       "    </tr>\n",
       "    <tr>\n",
       "      <th>170</th>\n",
       "      <td>Bronx High School of Science</td>\n",
       "      <td>2041</td>\n",
       "    </tr>\n",
       "    <tr>\n",
       "      <th>93</th>\n",
       "      <td>Staten Island Technical High School</td>\n",
       "      <td>2041</td>\n",
       "    </tr>\n",
       "    <tr>\n",
       "      <th>174</th>\n",
       "      <td>High School of American Studies at Lehman College</td>\n",
       "      <td>2013</td>\n",
       "    </tr>\n",
       "    <tr>\n",
       "      <th>333</th>\n",
       "      <td>Townsend Harris High School</td>\n",
       "      <td>1981</td>\n",
       "    </tr>\n",
       "    <tr>\n",
       "      <th>365</th>\n",
       "      <td>Queens High School for the Sciences at York Co...</td>\n",
       "      <td>1947</td>\n",
       "    </tr>\n",
       "    <tr>\n",
       "      <th>5</th>\n",
       "      <td>Bard High School Early College</td>\n",
       "      <td>1914</td>\n",
       "    </tr>\n",
       "    <tr>\n",
       "      <th>280</th>\n",
       "      <td>Brooklyn Technical High School</td>\n",
       "      <td>1896</td>\n",
       "    </tr>\n",
       "    <tr>\n",
       "      <th>45</th>\n",
       "      <td>Eleanor Roosevelt High School</td>\n",
       "      <td>1889</td>\n",
       "    </tr>\n",
       "    <tr>\n",
       "      <th>68</th>\n",
       "      <td>High School for Mathematics, Science, and Engi...</td>\n",
       "      <td>1889</td>\n",
       "    </tr>\n",
       "  </tbody>\n",
       "</table>\n",
       "</div>"
      ],
      "text/plain": [
       "                                           school_name  total_SAT\n",
       "88                              Stuyvesant High School       2144\n",
       "170                       Bronx High School of Science       2041\n",
       "93                 Staten Island Technical High School       2041\n",
       "174  High School of American Studies at Lehman College       2013\n",
       "333                        Townsend Harris High School       1981\n",
       "365  Queens High School for the Sciences at York Co...       1947\n",
       "5                       Bard High School Early College       1914\n",
       "280                     Brooklyn Technical High School       1896\n",
       "45                       Eleanor Roosevelt High School       1889\n",
       "68   High School for Mathematics, Science, and Engi...       1889"
      ]
     },
     "execution_count": 73,
     "metadata": {
      "application/com.datacamp.data-table.v2+json": {
       "status": "success"
      }
     },
     "output_type": "execute_result"
    }
   ],
   "source": [
    "top_10_schools.head(10)"
   ]
  },
  {
   "cell_type": "code",
   "execution_count": 74,
   "id": "45860301-0584-4f52-98ae-2a067d8fd55e",
   "metadata": {
    "executionCancelledAt": null,
    "executionTime": 48,
    "lastExecutedAt": 1740948123478,
    "lastExecutedByKernel": "6b41a953-eaf4-4765-9759-22ef07ec00db",
    "lastScheduledRunId": null,
    "lastSuccessfullyExecutedCode": "import numpy as np\nstd_dev = schools.groupby('borough')['total_SAT'].agg(['count', 'mean', 'std']).round(2)"
   },
   "outputs": [],
   "source": [
    "import numpy as np\n",
    "std_dev = schools.groupby('borough')['total_SAT'].agg(['count', 'mean', 'std']).round(2)"
   ]
  },
  {
   "cell_type": "code",
   "execution_count": 75,
   "id": "d824b16e-8d0d-4399-81a7-633a221e23d8",
   "metadata": {
    "executionCancelledAt": null,
    "executionTime": 52,
    "lastExecutedAt": 1740948123530,
    "lastExecutedByKernel": "6b41a953-eaf4-4765-9759-22ef07ec00db",
    "lastScheduledRunId": null,
    "lastSuccessfullyExecutedCode": "print(std_dev)",
    "outputsMetadata": {
     "0": {
      "height": 164,
      "type": "stream"
     }
    }
   },
   "outputs": [
    {
     "name": "stdout",
     "output_type": "stream",
     "text": [
      "               count     mean     std\n",
      "borough                              \n",
      "Bronx             98  1202.72  150.39\n",
      "Brooklyn         109  1230.26  154.87\n",
      "Manhattan         89  1340.13  230.29\n",
      "Queens            69  1345.48  195.25\n",
      "Staten Island     10  1439.00  222.30\n"
     ]
    }
   ],
   "source": [
    "print(std_dev)"
   ]
  },
  {
   "cell_type": "code",
   "execution_count": 76,
   "id": "a28404a9-6b1c-4263-a07d-b67105095ee4",
   "metadata": {
    "executionCancelledAt": null,
    "executionTime": 48,
    "lastExecutedAt": 1740948123578,
    "lastExecutedByKernel": "6b41a953-eaf4-4765-9759-22ef07ec00db",
    "lastScheduledRunId": null,
    "lastSuccessfullyExecutedCode": "largest_std_dev= std_dev[std_dev['std']==std_dev['std'].max()]"
   },
   "outputs": [],
   "source": [
    "largest_std_dev= std_dev[std_dev['std']==std_dev['std'].max()]"
   ]
  },
  {
   "cell_type": "code",
   "execution_count": 77,
   "id": "dfb875f5-fdc5-4495-957f-31e458a17304",
   "metadata": {
    "executionCancelledAt": null,
    "executionTime": 56,
    "lastExecutedAt": 1740948123634,
    "lastExecutedByKernel": "6b41a953-eaf4-4765-9759-22ef07ec00db",
    "lastScheduledRunId": null,
    "lastSuccessfullyExecutedCode": "print(largest_std_dev)",
    "outputsMetadata": {
     "0": {
      "height": 80,
      "type": "stream"
     }
    }
   },
   "outputs": [
    {
     "name": "stdout",
     "output_type": "stream",
     "text": [
      "           count     mean     std\n",
      "borough                          \n",
      "Manhattan     89  1340.13  230.29\n"
     ]
    }
   ],
   "source": [
    "print(largest_std_dev)"
   ]
  },
  {
   "cell_type": "code",
   "execution_count": 78,
   "id": "ce23c06c-0a59-41f1-b01e-bd7aeb3315d6",
   "metadata": {
    "executionCancelledAt": null,
    "executionTime": 48,
    "lastExecutedAt": 1740948123682,
    "lastExecutedByKernel": "6b41a953-eaf4-4765-9759-22ef07ec00db",
    "lastScheduledRunId": null,
    "lastSuccessfullyExecutedCode": "largest_std_dev= largest_std_dev.rename(columns={'count':'num_schools', 'mean':'average_SAT', 'std':'std_SAT'})"
   },
   "outputs": [],
   "source": [
    "largest_std_dev= largest_std_dev.rename(columns={'count':'num_schools', 'mean':'average_SAT', 'std':'std_SAT'})"
   ]
  },
  {
   "cell_type": "code",
   "execution_count": 79,
   "id": "e50cbbfc-8399-4897-b2b6-f63cf12f0bd0",
   "metadata": {
    "executionCancelledAt": null,
    "executionTime": 51,
    "lastExecutedAt": 1740948123734,
    "lastExecutedByKernel": "6b41a953-eaf4-4765-9759-22ef07ec00db",
    "lastScheduledRunId": null,
    "lastSuccessfullyExecutedCode": "print(largest_std_dev)",
    "outputsMetadata": {
     "0": {
      "height": 80,
      "type": "stream"
     }
    },
    "scrolled": true
   },
   "outputs": [
    {
     "name": "stdout",
     "output_type": "stream",
     "text": [
      "           num_schools  average_SAT  std_SAT\n",
      "borough                                     \n",
      "Manhattan           89      1340.13   230.29\n"
     ]
    }
   ],
   "source": [
    "print(largest_std_dev)"
   ]
  },
  {
   "cell_type": "markdown",
   "id": "44cc5e90-f28b-4d74-8073-a7aebcef00ba",
   "metadata": {},
   "source": [
    "## Result\n",
    "Manhattan had the highest number of standard deviation in the combined SAT score."
   ]
  }
 ],
 "metadata": {
  "editor": "DataLab",
  "kernelspec": {
   "display_name": "Python [conda env:base] *",
   "language": "python",
   "name": "conda-base-py"
  },
  "language_info": {
   "codemirror_mode": {
    "name": "ipython",
    "version": 3
   },
   "file_extension": ".py",
   "mimetype": "text/x-python",
   "name": "python",
   "nbconvert_exporter": "python",
   "pygments_lexer": "ipython3",
   "version": "3.12.7"
  }
 },
 "nbformat": 4,
 "nbformat_minor": 5
}
